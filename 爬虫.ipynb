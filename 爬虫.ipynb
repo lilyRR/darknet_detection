{
 "cells": [
  {
   "cell_type": "code",
   "execution_count": 69,
   "metadata": {},
   "outputs": [
    {
     "name": "stdout",
     "output_type": "stream",
     "text": [
      "CHAT_aimchatgateway.pcap下载完成\n",
      "CHAT_facebookchatgateway.pcap下载完成\n",
      "CHAT_gate_AIM_chat.pcap下载完成\n"
     ]
    }
   ],
   "source": [
    "from selenium.webdriver import Chrome\n",
    "import os\n",
    "from selenium import webdriver\n",
    "import time\n",
    "chrome_driver = 'C:\\\\Program Files (x86)\\\\Google\\\\Chrome\\\\Application\\\\chromedriver.exe'\n",
    "driver = webdriver.Chrome(executable_path=chrome_driver)\n",
    "folder = 'G:\\result'\n",
    "for root, dirs, files in os.walk(folder):\n",
    "    for file in files:\n",
    "#for x in file_name_list:\n",
    "\n",
    "        driver.get('http://www.binvis.io/#/')\n",
    "        driver.find_element_by_xpath('//*[@id=\"filebutton\"]').click()\n",
    "        time.sleep(1)\n",
    "    #path='E:\\\\TorPcaps\\\\Pcaps\\\\tor\\\\AUDIO_spotifygateway.pcap'\n",
    "\n",
    "        file_input = driver.find_element_by_id(\"fileinput\")\n",
    "        file_input.send_keys(root+'/'+file)\n",
    "\n",
    "        time.sleep(0.05)\n",
    "        driver.find_element_by_xpath('//i[@class=\"fa fa-lg fa-camera-retro\"]').click()\n",
    "        time.sleep(0.15)\n",
    "        driver.find_element_by_xpath('//button[@class=\"btn btn-primary\"]').click()\n",
    "        print(file+\"下载完成\")\n",
    "        time.sleep(0.01)\n"
   ]
  },
  {
   "cell_type": "code",
   "execution_count": null,
   "metadata": {},
   "outputs": [],
   "source": [
    "\n"
   ]
  },
  {
   "cell_type": "code",
   "execution_count": null,
   "metadata": {},
   "outputs": [],
   "source": []
  }
 ],
 "metadata": {
  "kernelspec": {
   "display_name": "Python 3",
   "language": "python",
   "name": "python3"
  },
  "language_info": {
   "codemirror_mode": {
    "name": "ipython",
    "version": 3
   },
   "file_extension": ".py",
   "mimetype": "text/x-python",
   "name": "python",
   "nbconvert_exporter": "python",
   "pygments_lexer": "ipython3",
   "version": "3.8.3"
  }
 },
 "nbformat": 4,
 "nbformat_minor": 4
}